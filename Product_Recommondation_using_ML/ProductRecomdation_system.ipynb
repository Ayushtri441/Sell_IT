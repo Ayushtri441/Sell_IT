{
 "cells": [
  {
   "cell_type": "code",
   "execution_count": 2,
   "metadata": {
    "id": "Q7yHxRJVAF_j"
   },
   "outputs": [],
   "source": [
    "import numpy as np\n",
    "import pandas as pd\n",
    "import difflib\n",
    "from sklearn.feature_extraction.text import TfidfVectorizer\n",
    "from sklearn.metrics.pairwise import cosine_similarity"
   ]
  },
  {
   "cell_type": "markdown",
   "metadata": {
    "id": "E4IBxq4PNbw1"
   },
   "source": []
  },
  {
   "cell_type": "code",
   "execution_count": 3,
   "metadata": {
    "id": "DOXmilC4AvoT"
   },
   "outputs": [],
   "source": [
    "# loading the data from the csv file to apandas dataframe\n",
    "products_data = pd.read_csv('products.csv')"
   ]
  },
  {
   "cell_type": "code",
   "execution_count": 4,
   "metadata": {
    "colab": {
     "base_uri": "https://localhost:8080/",
     "height": 374
    },
    "id": "C2RjDL4UBCtq",
    "outputId": "12273552-3586-4224-b0d4-a898dda66591"
   },
   "outputs": [
    {
     "data": {
      "text/html": [
       "<div>\n",
       "<style scoped>\n",
       "    .dataframe tbody tr th:only-of-type {\n",
       "        vertical-align: middle;\n",
       "    }\n",
       "\n",
       "    .dataframe tbody tr th {\n",
       "        vertical-align: top;\n",
       "    }\n",
       "\n",
       "    .dataframe thead th {\n",
       "        text-align: right;\n",
       "    }\n",
       "</style>\n",
       "<table border=\"1\" class=\"dataframe\">\n",
       "  <thead>\n",
       "    <tr style=\"text-align: right;\">\n",
       "      <th></th>\n",
       "      <th>Unnamed: 0</th>\n",
       "      <th>date_crawled</th>\n",
       "      <th>car_name</th>\n",
       "      <th>price_EUR</th>\n",
       "      <th>ab_test</th>\n",
       "      <th>vehicle_type</th>\n",
       "      <th>registration_year</th>\n",
       "      <th>transmission</th>\n",
       "      <th>power_ps</th>\n",
       "      <th>model</th>\n",
       "      <th>odometer_km</th>\n",
       "      <th>registration_month</th>\n",
       "      <th>fuel_type</th>\n",
       "      <th>brand</th>\n",
       "      <th>unrepaired_damage</th>\n",
       "      <th>ad_created</th>\n",
       "      <th>postal_code</th>\n",
       "      <th>last_seen</th>\n",
       "    </tr>\n",
       "  </thead>\n",
       "  <tbody>\n",
       "    <tr>\n",
       "      <th>0</th>\n",
       "      <td>1.0</td>\n",
       "      <td>4/2/2016 14:51</td>\n",
       "      <td>Astra_G_Cabrio_Turbo_235_PS</td>\n",
       "      <td>5200.0</td>\n",
       "      <td>test</td>\n",
       "      <td>cabrio</td>\n",
       "      <td>2002.0</td>\n",
       "      <td>manuell</td>\n",
       "      <td>235.0</td>\n",
       "      <td>astra</td>\n",
       "      <td>125000.0</td>\n",
       "      <td>5.0</td>\n",
       "      <td>Unknown</td>\n",
       "      <td>opel</td>\n",
       "      <td>nein</td>\n",
       "      <td>4/2/2016 0:00</td>\n",
       "      <td>47652.0</td>\n",
       "      <td>4/6/2016 13:17</td>\n",
       "    </tr>\n",
       "    <tr>\n",
       "      <th>1</th>\n",
       "      <td>2.0</td>\n",
       "      <td>3/19/2016 18:36</td>\n",
       "      <td>Fiat_Grande_Punto_1.2_8V__MIT_2_JAHREN_GARANTIE</td>\n",
       "      <td>3400.0</td>\n",
       "      <td>test</td>\n",
       "      <td>kleinwagen</td>\n",
       "      <td>2006.0</td>\n",
       "      <td>manuell</td>\n",
       "      <td>65.0</td>\n",
       "      <td>andere</td>\n",
       "      <td>125000.0</td>\n",
       "      <td>5.0</td>\n",
       "      <td>benzin</td>\n",
       "      <td>fiat</td>\n",
       "      <td>nein</td>\n",
       "      <td>3/19/2016 0:00</td>\n",
       "      <td>66538.0</td>\n",
       "      <td>4/7/2016 7:15</td>\n",
       "    </tr>\n",
       "    <tr>\n",
       "      <th>2</th>\n",
       "      <td>3.0</td>\n",
       "      <td>3/9/2016 20:59</td>\n",
       "      <td>Volvo_XC60_D5_AWD_Aut.</td>\n",
       "      <td>5200.0</td>\n",
       "      <td>test</td>\n",
       "      <td>suv</td>\n",
       "      <td>2009.0</td>\n",
       "      <td>automatik</td>\n",
       "      <td>220.0</td>\n",
       "      <td>xc_reihe</td>\n",
       "      <td>150000.0</td>\n",
       "      <td>3.0</td>\n",
       "      <td>diesel</td>\n",
       "      <td>volvo</td>\n",
       "      <td>ja</td>\n",
       "      <td>3/9/2016 0:00</td>\n",
       "      <td>72762.0</td>\n",
       "      <td>3/16/2016 5:46</td>\n",
       "    </tr>\n",
       "    <tr>\n",
       "      <th>3</th>\n",
       "      <td>4.0</td>\n",
       "      <td>3/26/2016 15:55</td>\n",
       "      <td>Kombi_Technisch_super_in_Schuss</td>\n",
       "      <td>750.0</td>\n",
       "      <td>test</td>\n",
       "      <td>kombi</td>\n",
       "      <td>2000.0</td>\n",
       "      <td>manuell</td>\n",
       "      <td>112.0</td>\n",
       "      <td>mondeo</td>\n",
       "      <td>150000.0</td>\n",
       "      <td>12.0</td>\n",
       "      <td>benzin</td>\n",
       "      <td>ford</td>\n",
       "      <td>Unknown</td>\n",
       "      <td>3/26/2016 0:00</td>\n",
       "      <td>39446.0</td>\n",
       "      <td>3/26/2016 15:55</td>\n",
       "    </tr>\n",
       "    <tr>\n",
       "      <th>4</th>\n",
       "      <td>5.0</td>\n",
       "      <td>3/29/2016 14:47</td>\n",
       "      <td>Audi_A4_1.9_TDI_quattro_Delphingrau</td>\n",
       "      <td>3522.0</td>\n",
       "      <td>test</td>\n",
       "      <td>limousine</td>\n",
       "      <td>2004.0</td>\n",
       "      <td>manuell</td>\n",
       "      <td>131.0</td>\n",
       "      <td>a4</td>\n",
       "      <td>150000.0</td>\n",
       "      <td>7.0</td>\n",
       "      <td>diesel</td>\n",
       "      <td>audi</td>\n",
       "      <td>nein</td>\n",
       "      <td>3/29/2016 0:00</td>\n",
       "      <td>51373.0</td>\n",
       "      <td>3/29/2016 14:47</td>\n",
       "    </tr>\n",
       "  </tbody>\n",
       "</table>\n",
       "</div>"
      ],
      "text/plain": [
       "   Unnamed: 0     date_crawled  \\\n",
       "0         1.0   4/2/2016 14:51   \n",
       "1         2.0  3/19/2016 18:36   \n",
       "2         3.0   3/9/2016 20:59   \n",
       "3         4.0  3/26/2016 15:55   \n",
       "4         5.0  3/29/2016 14:47   \n",
       "\n",
       "                                          car_name  price_EUR ab_test  \\\n",
       "0                      Astra_G_Cabrio_Turbo_235_PS     5200.0    test   \n",
       "1  Fiat_Grande_Punto_1.2_8V__MIT_2_JAHREN_GARANTIE     3400.0    test   \n",
       "2                           Volvo_XC60_D5_AWD_Aut.     5200.0    test   \n",
       "3                  Kombi_Technisch_super_in_Schuss      750.0    test   \n",
       "4              Audi_A4_1.9_TDI_quattro_Delphingrau     3522.0    test   \n",
       "\n",
       "  vehicle_type  registration_year transmission  power_ps     model  \\\n",
       "0       cabrio             2002.0      manuell     235.0     astra   \n",
       "1   kleinwagen             2006.0      manuell      65.0    andere   \n",
       "2          suv             2009.0    automatik     220.0  xc_reihe   \n",
       "3        kombi             2000.0      manuell     112.0    mondeo   \n",
       "4    limousine             2004.0      manuell     131.0        a4   \n",
       "\n",
       "   odometer_km  registration_month fuel_type  brand unrepaired_damage  \\\n",
       "0     125000.0                 5.0   Unknown   opel              nein   \n",
       "1     125000.0                 5.0    benzin   fiat              nein   \n",
       "2     150000.0                 3.0    diesel  volvo                ja   \n",
       "3     150000.0                12.0    benzin   ford           Unknown   \n",
       "4     150000.0                 7.0    diesel   audi              nein   \n",
       "\n",
       "       ad_created  postal_code        last_seen  \n",
       "0   4/2/2016 0:00      47652.0   4/6/2016 13:17  \n",
       "1  3/19/2016 0:00      66538.0    4/7/2016 7:15  \n",
       "2   3/9/2016 0:00      72762.0   3/16/2016 5:46  \n",
       "3  3/26/2016 0:00      39446.0  3/26/2016 15:55  \n",
       "4  3/29/2016 0:00      51373.0  3/29/2016 14:47  "
      ]
     },
     "execution_count": 4,
     "metadata": {},
     "output_type": "execute_result"
    }
   ],
   "source": [
    "products_data.head()"
   ]
  },
  {
   "cell_type": "code",
   "execution_count": 5,
   "metadata": {
    "colab": {
     "base_uri": "https://localhost:8080/"
    },
    "id": "AYll7uNjBVPX",
    "outputId": "f2e417bb-c5da-489e-9be3-a1885f3c07be"
   },
   "outputs": [
    {
     "data": {
      "text/plain": [
       "(6749, 18)"
      ]
     },
     "execution_count": 5,
     "metadata": {},
     "output_type": "execute_result"
    }
   ],
   "source": [
    "products_data.shape"
   ]
  },
  {
   "cell_type": "code",
   "execution_count": 6,
   "metadata": {
    "id": "pIYydropBlyO"
   },
   "outputs": [],
   "source": [
    "selected_features = ['car_name','price_EUR','vehicle_type','transmission','fuel_type']"
   ]
  },
  {
   "cell_type": "code",
   "execution_count": 7,
   "metadata": {
    "id": "pEzxCIMFCAtv"
   },
   "outputs": [],
   "source": [
    "for feature in selected_features:\n",
    "  products_data[feature] = products_data[feature].fillna('')"
   ]
  },
  {
   "cell_type": "markdown",
   "metadata": {
    "id": "Ahr53Do4C8o1"
   },
   "source": [
    "Multiplty by 90 to convert eru to inr"
   ]
  },
  {
   "cell_type": "code",
   "execution_count": 8,
   "metadata": {
    "id": "3eYcwZ0JCfv9"
   },
   "outputs": [],
   "source": [
    "\n",
    "products_data['price_EUR']= products_data['price_EUR']*90;\n"
   ]
  },
  {
   "cell_type": "code",
   "execution_count": 9,
   "metadata": {
    "colab": {
     "base_uri": "https://localhost:8080/",
     "height": 374
    },
    "id": "SnlUEhR1Cub7",
    "outputId": "4d24f2d2-1716-4eb1-e860-086dace72204"
   },
   "outputs": [
    {
     "data": {
      "text/html": [
       "<div>\n",
       "<style scoped>\n",
       "    .dataframe tbody tr th:only-of-type {\n",
       "        vertical-align: middle;\n",
       "    }\n",
       "\n",
       "    .dataframe tbody tr th {\n",
       "        vertical-align: top;\n",
       "    }\n",
       "\n",
       "    .dataframe thead th {\n",
       "        text-align: right;\n",
       "    }\n",
       "</style>\n",
       "<table border=\"1\" class=\"dataframe\">\n",
       "  <thead>\n",
       "    <tr style=\"text-align: right;\">\n",
       "      <th></th>\n",
       "      <th>Unnamed: 0</th>\n",
       "      <th>date_crawled</th>\n",
       "      <th>car_name</th>\n",
       "      <th>price_EUR</th>\n",
       "      <th>ab_test</th>\n",
       "      <th>vehicle_type</th>\n",
       "      <th>registration_year</th>\n",
       "      <th>transmission</th>\n",
       "      <th>power_ps</th>\n",
       "      <th>model</th>\n",
       "      <th>odometer_km</th>\n",
       "      <th>registration_month</th>\n",
       "      <th>fuel_type</th>\n",
       "      <th>brand</th>\n",
       "      <th>unrepaired_damage</th>\n",
       "      <th>ad_created</th>\n",
       "      <th>postal_code</th>\n",
       "      <th>last_seen</th>\n",
       "    </tr>\n",
       "  </thead>\n",
       "  <tbody>\n",
       "    <tr>\n",
       "      <th>0</th>\n",
       "      <td>1.0</td>\n",
       "      <td>4/2/2016 14:51</td>\n",
       "      <td>Astra_G_Cabrio_Turbo_235_PS</td>\n",
       "      <td>468000.0</td>\n",
       "      <td>test</td>\n",
       "      <td>cabrio</td>\n",
       "      <td>2002.0</td>\n",
       "      <td>manuell</td>\n",
       "      <td>235.0</td>\n",
       "      <td>astra</td>\n",
       "      <td>125000.0</td>\n",
       "      <td>5.0</td>\n",
       "      <td>Unknown</td>\n",
       "      <td>opel</td>\n",
       "      <td>nein</td>\n",
       "      <td>4/2/2016 0:00</td>\n",
       "      <td>47652.0</td>\n",
       "      <td>4/6/2016 13:17</td>\n",
       "    </tr>\n",
       "    <tr>\n",
       "      <th>1</th>\n",
       "      <td>2.0</td>\n",
       "      <td>3/19/2016 18:36</td>\n",
       "      <td>Fiat_Grande_Punto_1.2_8V__MIT_2_JAHREN_GARANTIE</td>\n",
       "      <td>306000.0</td>\n",
       "      <td>test</td>\n",
       "      <td>kleinwagen</td>\n",
       "      <td>2006.0</td>\n",
       "      <td>manuell</td>\n",
       "      <td>65.0</td>\n",
       "      <td>andere</td>\n",
       "      <td>125000.0</td>\n",
       "      <td>5.0</td>\n",
       "      <td>benzin</td>\n",
       "      <td>fiat</td>\n",
       "      <td>nein</td>\n",
       "      <td>3/19/2016 0:00</td>\n",
       "      <td>66538.0</td>\n",
       "      <td>4/7/2016 7:15</td>\n",
       "    </tr>\n",
       "    <tr>\n",
       "      <th>2</th>\n",
       "      <td>3.0</td>\n",
       "      <td>3/9/2016 20:59</td>\n",
       "      <td>Volvo_XC60_D5_AWD_Aut.</td>\n",
       "      <td>468000.0</td>\n",
       "      <td>test</td>\n",
       "      <td>suv</td>\n",
       "      <td>2009.0</td>\n",
       "      <td>automatik</td>\n",
       "      <td>220.0</td>\n",
       "      <td>xc_reihe</td>\n",
       "      <td>150000.0</td>\n",
       "      <td>3.0</td>\n",
       "      <td>diesel</td>\n",
       "      <td>volvo</td>\n",
       "      <td>ja</td>\n",
       "      <td>3/9/2016 0:00</td>\n",
       "      <td>72762.0</td>\n",
       "      <td>3/16/2016 5:46</td>\n",
       "    </tr>\n",
       "    <tr>\n",
       "      <th>3</th>\n",
       "      <td>4.0</td>\n",
       "      <td>3/26/2016 15:55</td>\n",
       "      <td>Kombi_Technisch_super_in_Schuss</td>\n",
       "      <td>67500.0</td>\n",
       "      <td>test</td>\n",
       "      <td>kombi</td>\n",
       "      <td>2000.0</td>\n",
       "      <td>manuell</td>\n",
       "      <td>112.0</td>\n",
       "      <td>mondeo</td>\n",
       "      <td>150000.0</td>\n",
       "      <td>12.0</td>\n",
       "      <td>benzin</td>\n",
       "      <td>ford</td>\n",
       "      <td>Unknown</td>\n",
       "      <td>3/26/2016 0:00</td>\n",
       "      <td>39446.0</td>\n",
       "      <td>3/26/2016 15:55</td>\n",
       "    </tr>\n",
       "    <tr>\n",
       "      <th>4</th>\n",
       "      <td>5.0</td>\n",
       "      <td>3/29/2016 14:47</td>\n",
       "      <td>Audi_A4_1.9_TDI_quattro_Delphingrau</td>\n",
       "      <td>316980.0</td>\n",
       "      <td>test</td>\n",
       "      <td>limousine</td>\n",
       "      <td>2004.0</td>\n",
       "      <td>manuell</td>\n",
       "      <td>131.0</td>\n",
       "      <td>a4</td>\n",
       "      <td>150000.0</td>\n",
       "      <td>7.0</td>\n",
       "      <td>diesel</td>\n",
       "      <td>audi</td>\n",
       "      <td>nein</td>\n",
       "      <td>3/29/2016 0:00</td>\n",
       "      <td>51373.0</td>\n",
       "      <td>3/29/2016 14:47</td>\n",
       "    </tr>\n",
       "  </tbody>\n",
       "</table>\n",
       "</div>"
      ],
      "text/plain": [
       "   Unnamed: 0     date_crawled  \\\n",
       "0         1.0   4/2/2016 14:51   \n",
       "1         2.0  3/19/2016 18:36   \n",
       "2         3.0   3/9/2016 20:59   \n",
       "3         4.0  3/26/2016 15:55   \n",
       "4         5.0  3/29/2016 14:47   \n",
       "\n",
       "                                          car_name price_EUR ab_test  \\\n",
       "0                      Astra_G_Cabrio_Turbo_235_PS  468000.0    test   \n",
       "1  Fiat_Grande_Punto_1.2_8V__MIT_2_JAHREN_GARANTIE  306000.0    test   \n",
       "2                           Volvo_XC60_D5_AWD_Aut.  468000.0    test   \n",
       "3                  Kombi_Technisch_super_in_Schuss   67500.0    test   \n",
       "4              Audi_A4_1.9_TDI_quattro_Delphingrau  316980.0    test   \n",
       "\n",
       "  vehicle_type  registration_year transmission  power_ps     model  \\\n",
       "0       cabrio             2002.0      manuell     235.0     astra   \n",
       "1   kleinwagen             2006.0      manuell      65.0    andere   \n",
       "2          suv             2009.0    automatik     220.0  xc_reihe   \n",
       "3        kombi             2000.0      manuell     112.0    mondeo   \n",
       "4    limousine             2004.0      manuell     131.0        a4   \n",
       "\n",
       "   odometer_km  registration_month fuel_type  brand unrepaired_damage  \\\n",
       "0     125000.0                 5.0   Unknown   opel              nein   \n",
       "1     125000.0                 5.0    benzin   fiat              nein   \n",
       "2     150000.0                 3.0    diesel  volvo                ja   \n",
       "3     150000.0                12.0    benzin   ford           Unknown   \n",
       "4     150000.0                 7.0    diesel   audi              nein   \n",
       "\n",
       "       ad_created  postal_code        last_seen  \n",
       "0   4/2/2016 0:00      47652.0   4/6/2016 13:17  \n",
       "1  3/19/2016 0:00      66538.0    4/7/2016 7:15  \n",
       "2   3/9/2016 0:00      72762.0   3/16/2016 5:46  \n",
       "3  3/26/2016 0:00      39446.0  3/26/2016 15:55  \n",
       "4  3/29/2016 0:00      51373.0  3/29/2016 14:47  "
      ]
     },
     "execution_count": 9,
     "metadata": {},
     "output_type": "execute_result"
    }
   ],
   "source": [
    "products_data.head()"
   ]
  },
  {
   "cell_type": "code",
   "execution_count": 10,
   "metadata": {
    "id": "UTFDn2NGDLwD"
   },
   "outputs": [],
   "source": [
    "# combining all the 5 selected features\n",
    "\n",
    "combined_features = products_data[ 'car_name'] + ' ' + \\\n",
    "                   products_data[ 'price_EUR'].astype(str) + ' ' + \\\n",
    "                   products_data[ 'vehicle_type'] + ' ' + \\\n",
    "                   products_data[ 'transmission'] + ' ' + \\\n",
    "                   products_data[ 'fuel_type']"
   ]
  },
  {
   "cell_type": "code",
   "execution_count": 11,
   "metadata": {
    "colab": {
     "base_uri": "https://localhost:8080/"
    },
    "id": "AFjdxCkADxMq",
    "outputId": "9e351cb5-a37b-4c69-c431-849cfd1add0f"
   },
   "outputs": [
    {
     "data": {
      "text/plain": [
       "0    Astra_G_Cabrio_Turbo_235_PS 468000.0 cabrio ma...\n",
       "1    Fiat_Grande_Punto_1.2_8V__MIT_2_JAHREN_GARANTI...\n",
       "2    Volvo_XC60_D5_AWD_Aut. 468000.0 suv automatik ...\n",
       "3    Kombi_Technisch_super_in_Schuss 67500.0 kombi ...\n",
       "4    Audi_A4_1.9_TDI_quattro_Delphingrau 316980.0 l...\n",
       "dtype: object"
      ]
     },
     "execution_count": 11,
     "metadata": {},
     "output_type": "execute_result"
    }
   ],
   "source": [
    "combined_features.head()"
   ]
  },
  {
   "cell_type": "code",
   "execution_count": 12,
   "metadata": {
    "id": "Ti7Ahfc4ES3u"
   },
   "outputs": [],
   "source": [
    "vectorizer = TfidfVectorizer()"
   ]
  },
  {
   "cell_type": "code",
   "execution_count": 13,
   "metadata": {
    "id": "5o5uAsFJEVTN"
   },
   "outputs": [],
   "source": [
    "feature_vectors = vectorizer.fit_transform(combined_features)"
   ]
  },
  {
   "cell_type": "markdown",
   "metadata": {
    "id": "hl3kC7jVE1eI"
   },
   "source": [
    "Consine similarity"
   ]
  },
  {
   "cell_type": "code",
   "execution_count": 14,
   "metadata": {
    "id": "RRBy16uIE3-5"
   },
   "outputs": [],
   "source": [
    "similarity = cosine_similarity(feature_vectors)"
   ]
  },
  {
   "cell_type": "code",
   "execution_count": 15,
   "metadata": {
    "colab": {
     "base_uri": "https://localhost:8080/"
    },
    "id": "CTNtM-z5E7pK",
    "outputId": "d96e2bb2-ca19-4a04-9747-f979500ea70a"
   },
   "outputs": [
    {
     "name": "stdout",
     "output_type": "stream",
     "text": [
      "[[1.         0.01539896 0.28247327 ... 0.         0.         0.        ]\n",
      " [0.01539896 1.         0.         ... 0.         0.         0.        ]\n",
      " [0.28247327 0.         1.         ... 0.         0.         0.        ]\n",
      " ...\n",
      " [0.         0.         0.         ... 0.         0.         0.        ]\n",
      " [0.         0.         0.         ... 0.         0.         0.        ]\n",
      " [0.         0.         0.         ... 0.         0.         0.        ]]\n"
     ]
    }
   ],
   "source": [
    "print(similarity)"
   ]
  },
  {
   "cell_type": "code",
   "execution_count": 16,
   "metadata": {
    "colab": {
     "base_uri": "https://localhost:8080/"
    },
    "id": "ryGYMD32E94t",
    "outputId": "8370d4e4-e6ad-43c8-a2b0-0b20330cf0a3"
   },
   "outputs": [
    {
     "name": "stdout",
     "output_type": "stream",
     "text": [
      "(6749, 6749)\n"
     ]
    }
   ],
   "source": [
    "print(similarity.shape)"
   ]
  },
  {
   "cell_type": "markdown",
   "metadata": {
    "id": "eQ7BY-KyFCcE"
   },
   "source": [
    "Product Recommandation System"
   ]
  },
  {
   "cell_type": "code",
   "execution_count": 17,
   "metadata": {
    "colab": {
     "base_uri": "https://localhost:8080/"
    },
    "id": "u29AupWMFBuB",
    "outputId": "a49d13f6-6a11-4d53-fe7a-93d561bb794c"
   },
   "outputs": [
    {
     "name": "stdout",
     "output_type": "stream",
     "text": [
      " Enter your  Product name : BMW\n",
      "['BMW_X6', 'BMW_tds', 'BMW_535']\n",
      "Products suggested for you : \n",
      "\n",
      "1 . BMW_X6\n",
      "2 . BMW_X5_xDrive40d_Pano_Head_Up_komfortsitze_scheckhef\n",
      "3 . Audi_A7_3.0_TDI_quattro_S_tronic\n",
      "4 . AUDI_A5_S_Line_Aussen_u._Innen_komplett_Bang&Olufsen\n",
      "5 . Audi_TT_Roadster_1.8_TFSI_+GARANTIE___FARBE_EINMALIG\n",
      "6 . Volkswagen_Golf_1.9_TDI\n",
      "7 . BMW_320d\n",
      "8 . Mercedes_Benz_200\n",
      "9 . Mercedes_E200_CDI\n",
      "10 . Mercedes_Benz_C_220_CDI_Classic\n",
      "11 . Mercedes_Benz_E_280_CDI_Classic_DPF_Sport_Edition\n",
      "12 . Mercedes_Benz_220_CDI_elegance_Austattung\n",
      "13 . BMW_X3_xDrive20d_Aut\n",
      "14 . Mercedes_Benz_220\n",
      "15 . BMW_525d\n",
      "16 . Oldsmobile_98_luxery_sedan_diesel__bastlerfahrzeug\n",
      "17 . Mercedes_Benz_A_170_CDI_Elegance\n",
      "18 . BMW_X3_xDrive20d_Aut.\n",
      "19 . BMW_730D_top_Zustand!\n",
      "20 . Golf_V_GT_Top_zustand\n",
      "21 . BMW_X3_xDrive20d_Aut.\n",
      "22 . Mercedes_Benz_220CDI\n",
      "23 . BMW_320d_e90_177ps\n",
      "24 . BMW_525dA_Edition_Exclusive_DPF_HU_neu\n",
      "25 . BMW_330xd_DPF_Aut.\n",
      "26 . BMW_730d_M_Paket_VOLL_VOLL_VOLL_Ausstatung\n",
      "27 . Peugeot_407_HDi_135_Automatik_Tendance\n",
      "28 . Mercedes_Benz_A_170_CDI\n",
      "29 . E220_CDI_Mercedes_Benz_Euro_4_W211\n"
     ]
    }
   ],
   "source": [
    "product_name = input(' Enter your  Product name : ')\n",
    "\n",
    "list_of_all_products = products_data['car_name'].tolist()\n",
    "\n",
    "find_close_match = difflib.get_close_matches(product_name, list_of_all_products)\n",
    "\n",
    "close_match = find_close_match[0]\n",
    "print(find_close_match)\n",
    "\n",
    "index_of_the_product = products_data.loc[products_data.car_name.str.contains(close_match)].index[0]\n",
    "\n",
    "similarity_score = list(enumerate(similarity[index_of_the_product]))\n",
    "\n",
    "sorted_similar_product = sorted(similarity_score, key = lambda x:x[1], reverse = True)\n",
    "\n",
    "print('Products suggested for you : \\n')\n",
    "\n",
    "i = 1\n",
    "\n",
    "for product in sorted_similar_product:\n",
    "  index = product[0]\n",
    "  car_from_index = products_data[products_data.index==index]['car_name'].values[0]\n",
    "  if (i<30):\n",
    "    print(i, '.',car_from_index)\n",
    "    i+=1"
   ]
  },
  {
   "cell_type": "markdown",
   "metadata": {
    "id": "OpQNkX6mNdcG"
   },
   "source": [
    "Create pickle file to export data\n"
   ]
  },
  {
   "cell_type": "code",
   "execution_count": 18,
   "metadata": {
    "id": "bOjoE5PxNg_7"
   },
   "outputs": [],
   "source": [
    "import pickle\n",
    "data_to_pickle = {\n",
    "        'list_of_all_products':list_of_all_products,\n",
    "        'similarity':similarity,\n",
    "        'products_data':products_data\n",
    "\n",
    "    }\n",
    "with open('product_suggestions.pkl', 'wb') as file:\n",
    "  pickle.dump(data_to_pickle, file)"
   ]
  },
  {
   "cell_type": "code",
   "execution_count": null,
   "metadata": {},
   "outputs": [],
   "source": []
  }
 ],
 "metadata": {
  "colab": {
   "provenance": []
  },
  "kernelspec": {
   "display_name": "Python 3 (ipykernel)",
   "language": "python",
   "name": "python3"
  },
  "language_info": {
   "codemirror_mode": {
    "name": "ipython",
    "version": 3
   },
   "file_extension": ".py",
   "mimetype": "text/x-python",
   "name": "python",
   "nbconvert_exporter": "python",
   "pygments_lexer": "ipython3",
   "version": "3.11.3"
  }
 },
 "nbformat": 4,
 "nbformat_minor": 1
}
